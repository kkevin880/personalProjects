{
 "cells": [
  {
   "cell_type": "markdown",
   "metadata": {},
   "source": [
    "# Bootcamp I Notebook"
   ]
  },
  {
   "cell_type": "code",
   "execution_count": 1,
   "metadata": {},
   "outputs": [
    {
     "name": "stdout",
     "output_type": "stream",
     "text": [
      "Requirement already satisfied: numpy in /anaconda3/lib/python3.6/site-packages (1.14.3)\n",
      "\u001b[33mYou are using pip version 10.0.1, however version 19.0.3 is available.\n",
      "You should consider upgrading via the 'pip install --upgrade pip' command.\u001b[0m\n",
      "Requirement already satisfied: pandas in /anaconda3/lib/python3.6/site-packages (0.22.0)\n",
      "Requirement already satisfied: pytz>=2011k in /anaconda3/lib/python3.6/site-packages (from pandas) (2018.4)\n",
      "Requirement already satisfied: python-dateutil>=2 in /anaconda3/lib/python3.6/site-packages (from pandas) (2.7.3)\n",
      "Requirement already satisfied: numpy>=1.9.0 in /anaconda3/lib/python3.6/site-packages (from pandas) (1.14.3)\n",
      "Requirement already satisfied: six>=1.5 in /anaconda3/lib/python3.6/site-packages (from python-dateutil>=2->pandas) (1.11.0)\n",
      "\u001b[33mYou are using pip version 10.0.1, however version 19.0.3 is available.\n",
      "You should consider upgrading via the 'pip install --upgrade pip' command.\u001b[0m\n",
      "Requirement already satisfied: matplotlib in /anaconda3/lib/python3.6/site-packages (2.2.2)\n",
      "Requirement already satisfied: numpy>=1.7.1 in /anaconda3/lib/python3.6/site-packages (from matplotlib) (1.14.3)\n",
      "Requirement already satisfied: cycler>=0.10 in /anaconda3/lib/python3.6/site-packages (from matplotlib) (0.10.0)\n",
      "Requirement already satisfied: pyparsing!=2.0.4,!=2.1.2,!=2.1.6,>=2.0.1 in /anaconda3/lib/python3.6/site-packages (from matplotlib) (2.2.0)\n",
      "Requirement already satisfied: python-dateutil>=2.1 in /anaconda3/lib/python3.6/site-packages (from matplotlib) (2.7.3)\n",
      "Requirement already satisfied: pytz in /anaconda3/lib/python3.6/site-packages (from matplotlib) (2018.4)\n",
      "Requirement already satisfied: six>=1.10 in /anaconda3/lib/python3.6/site-packages (from matplotlib) (1.11.0)\n",
      "Requirement already satisfied: kiwisolver>=1.0.1 in /anaconda3/lib/python3.6/site-packages (from matplotlib) (1.0.1)\n",
      "Requirement already satisfied: setuptools in /anaconda3/lib/python3.6/site-packages (from kiwisolver>=1.0.1->matplotlib) (39.1.0)\n",
      "\u001b[33mYou are using pip version 10.0.1, however version 19.0.3 is available.\n",
      "You should consider upgrading via the 'pip install --upgrade pip' command.\u001b[0m\n",
      "Collecting sklearn\n",
      "  Downloading https://files.pythonhosted.org/packages/1e/7a/dbb3be0ce9bd5c8b7e3d87328e79063f8b263b2b1bfa4774cb1147bfcd3f/sklearn-0.0.tar.gz\n",
      "Requirement already satisfied: scikit-learn in /anaconda3/lib/python3.6/site-packages (from sklearn) (0.19.1)\n",
      "Building wheels for collected packages: sklearn\n",
      "  Running setup.py bdist_wheel for sklearn ... \u001b[?25ldone\n",
      "\u001b[?25h  Stored in directory: /Users/KK/Library/Caches/pip/wheels/76/03/bb/589d421d27431bcd2c6da284d5f2286c8e3b2ea3cf1594c074\n",
      "Successfully built sklearn\n",
      "Installing collected packages: sklearn\n",
      "Successfully installed sklearn-0.0\n",
      "\u001b[33mYou are using pip version 10.0.1, however version 19.0.3 is available.\n",
      "You should consider upgrading via the 'pip install --upgrade pip' command.\u001b[0m\n"
     ]
    },
    {
     "name": "stderr",
     "output_type": "stream",
     "text": [
      "/anaconda3/lib/python3.6/site-packages/sklearn/cross_validation.py:41: DeprecationWarning: This module was deprecated in version 0.18 in favor of the model_selection module into which all the refactored classes and functions are moved. Also note that the interface of the new CV iterators are different from that of this module. This module will be removed in 0.20.\n",
      "  \"This module will be removed in 0.20.\", DeprecationWarning)\n",
      "/anaconda3/lib/python3.6/site-packages/sklearn/grid_search.py:42: DeprecationWarning: This module was deprecated in version 0.18 in favor of the model_selection module into which all the refactored classes and functions are moved. This module will be removed in 0.20.\n",
      "  DeprecationWarning)\n"
     ]
    }
   ],
   "source": [
    "\"\"\"\"\" \n",
    "Im sorry that Jaume and I picked up a rather quick pace during the bootcamp\n",
    "We hope this commentary would enable you to understand this python script better\n",
    "Please do not hesitate to email machinelearning@lsesu.org should you have any problems\n",
    "Anyways, lets begin writing our code\n",
    "\n",
    "For the very first step, we download the libraries relevant to our task.\n",
    "The symbol \"!\" informs python that such function is to be called out from terminal /command line\n",
    "\"\"\"\"\"\n",
    "! pip3 install numpy\n",
    "! pip3 install pandas\n",
    "! pip3 install matplotlib\n",
    "! pip3 install sklearn\n",
    "\n",
    "import os\n",
    "import pandas as pd\n",
    "import numpy as np\n",
    "import matplotlib.pyplot as plt\n",
    "from sklearn.model_selection import train_test_split, cross_val_score\n",
    "from sklearn.svm import SVC, LinearSVC\n",
    "from sklearn.metrics import accuracy_score, confusion_matrix\n",
    "from sklearn import grid_search"
   ]
  },
  {
   "cell_type": "markdown",
   "metadata": {},
   "source": [
    "## Data Exploring"
   ]
  },
  {
   "cell_type": "code",
   "execution_count": 3,
   "metadata": {},
   "outputs": [],
   "source": [
    "\"\"\"\"\"\n",
    "We name our dataset as \"data\" and call out the read_csv() function from our pandas package\n",
    "The input in the pd.read() function is your fil e path\n",
    "P.S. Remember to add in quotational marks to denote your path as a string!\n",
    "\"\"\"\"\"\n",
    "data = pd.read_csv('Data/data_train.csv')"
   ]
  },
  {
   "cell_type": "code",
   "execution_count": 4,
   "metadata": {},
   "outputs": [
    {
     "data": {
      "text/plain": [
       "'/Users/KK/Documents/LSE/Personal-Projects'"
      ]
     },
     "execution_count": 4,
     "metadata": {},
     "output_type": "execute_result"
    }
   ],
   "source": [
    "os.getcwd()"
   ]
  },
  {
   "cell_type": "code",
   "execution_count": 5,
   "metadata": {},
   "outputs": [
    {
     "data": {
      "text/plain": [
       "(60000, 786)"
      ]
     },
     "execution_count": 5,
     "metadata": {},
     "output_type": "execute_result"
    }
   ],
   "source": [
    "\"\"\"\"\"\n",
    "Now we check the shape of our data. You will realize this dataset is a (6000 x 786) matrix\n",
    "This means we have 6000 samples and 784 variables in our dataset (note 28*28 = 784!)\n",
    "\"\"\"\"\"\n",
    "data.shape"
   ]
  },
  {
   "cell_type": "code",
   "execution_count": 7,
   "metadata": {},
   "outputs": [
    {
     "data": {
      "text/html": [
       "<div>\n",
       "<style>\n",
       "    .dataframe thead tr:only-child th {\n",
       "        text-align: right;\n",
       "    }\n",
       "\n",
       "    .dataframe thead th {\n",
       "        text-align: left;\n",
       "    }\n",
       "\n",
       "    .dataframe tbody tr th {\n",
       "        vertical-align: top;\n",
       "    }\n",
       "</style>\n",
       "<table border=\"1\" class=\"dataframe\">\n",
       "  <thead>\n",
       "    <tr style=\"text-align: right;\">\n",
       "      <th></th>\n",
       "      <th>Unnamed: 0</th>\n",
       "      <th>0</th>\n",
       "      <th>1</th>\n",
       "      <th>2</th>\n",
       "      <th>3</th>\n",
       "      <th>4</th>\n",
       "      <th>5</th>\n",
       "      <th>6</th>\n",
       "      <th>7</th>\n",
       "      <th>8</th>\n",
       "      <th>...</th>\n",
       "      <th>775</th>\n",
       "      <th>776</th>\n",
       "      <th>777</th>\n",
       "      <th>778</th>\n",
       "      <th>779</th>\n",
       "      <th>780</th>\n",
       "      <th>781</th>\n",
       "      <th>782</th>\n",
       "      <th>783</th>\n",
       "      <th>784</th>\n",
       "    </tr>\n",
       "  </thead>\n",
       "  <tbody>\n",
       "    <tr>\n",
       "      <th>0</th>\n",
       "      <td>0</td>\n",
       "      <td>0</td>\n",
       "      <td>0</td>\n",
       "      <td>0</td>\n",
       "      <td>0</td>\n",
       "      <td>0</td>\n",
       "      <td>0</td>\n",
       "      <td>0</td>\n",
       "      <td>0</td>\n",
       "      <td>0</td>\n",
       "      <td>...</td>\n",
       "      <td>0</td>\n",
       "      <td>0</td>\n",
       "      <td>0</td>\n",
       "      <td>0</td>\n",
       "      <td>0</td>\n",
       "      <td>0</td>\n",
       "      <td>0</td>\n",
       "      <td>0</td>\n",
       "      <td>0</td>\n",
       "      <td>5</td>\n",
       "    </tr>\n",
       "    <tr>\n",
       "      <th>1</th>\n",
       "      <td>1</td>\n",
       "      <td>0</td>\n",
       "      <td>0</td>\n",
       "      <td>0</td>\n",
       "      <td>0</td>\n",
       "      <td>0</td>\n",
       "      <td>0</td>\n",
       "      <td>0</td>\n",
       "      <td>0</td>\n",
       "      <td>0</td>\n",
       "      <td>...</td>\n",
       "      <td>0</td>\n",
       "      <td>0</td>\n",
       "      <td>0</td>\n",
       "      <td>0</td>\n",
       "      <td>0</td>\n",
       "      <td>0</td>\n",
       "      <td>0</td>\n",
       "      <td>0</td>\n",
       "      <td>0</td>\n",
       "      <td>0</td>\n",
       "    </tr>\n",
       "    <tr>\n",
       "      <th>2</th>\n",
       "      <td>2</td>\n",
       "      <td>0</td>\n",
       "      <td>0</td>\n",
       "      <td>0</td>\n",
       "      <td>0</td>\n",
       "      <td>0</td>\n",
       "      <td>0</td>\n",
       "      <td>0</td>\n",
       "      <td>0</td>\n",
       "      <td>0</td>\n",
       "      <td>...</td>\n",
       "      <td>0</td>\n",
       "      <td>0</td>\n",
       "      <td>0</td>\n",
       "      <td>0</td>\n",
       "      <td>0</td>\n",
       "      <td>0</td>\n",
       "      <td>0</td>\n",
       "      <td>0</td>\n",
       "      <td>0</td>\n",
       "      <td>4</td>\n",
       "    </tr>\n",
       "    <tr>\n",
       "      <th>3</th>\n",
       "      <td>3</td>\n",
       "      <td>0</td>\n",
       "      <td>0</td>\n",
       "      <td>0</td>\n",
       "      <td>0</td>\n",
       "      <td>0</td>\n",
       "      <td>0</td>\n",
       "      <td>0</td>\n",
       "      <td>0</td>\n",
       "      <td>0</td>\n",
       "      <td>...</td>\n",
       "      <td>0</td>\n",
       "      <td>0</td>\n",
       "      <td>0</td>\n",
       "      <td>0</td>\n",
       "      <td>0</td>\n",
       "      <td>0</td>\n",
       "      <td>0</td>\n",
       "      <td>0</td>\n",
       "      <td>0</td>\n",
       "      <td>1</td>\n",
       "    </tr>\n",
       "    <tr>\n",
       "      <th>4</th>\n",
       "      <td>4</td>\n",
       "      <td>0</td>\n",
       "      <td>0</td>\n",
       "      <td>0</td>\n",
       "      <td>0</td>\n",
       "      <td>0</td>\n",
       "      <td>0</td>\n",
       "      <td>0</td>\n",
       "      <td>0</td>\n",
       "      <td>0</td>\n",
       "      <td>...</td>\n",
       "      <td>0</td>\n",
       "      <td>0</td>\n",
       "      <td>0</td>\n",
       "      <td>0</td>\n",
       "      <td>0</td>\n",
       "      <td>0</td>\n",
       "      <td>0</td>\n",
       "      <td>0</td>\n",
       "      <td>0</td>\n",
       "      <td>9</td>\n",
       "    </tr>\n",
       "  </tbody>\n",
       "</table>\n",
       "<p>5 rows × 786 columns</p>\n",
       "</div>"
      ],
      "text/plain": [
       "   Unnamed: 0  0  1  2  3  4  5  6  7  8 ...   775  776  777  778  779  780  \\\n",
       "0           0  0  0  0  0  0  0  0  0  0 ...     0    0    0    0    0    0   \n",
       "1           1  0  0  0  0  0  0  0  0  0 ...     0    0    0    0    0    0   \n",
       "2           2  0  0  0  0  0  0  0  0  0 ...     0    0    0    0    0    0   \n",
       "3           3  0  0  0  0  0  0  0  0  0 ...     0    0    0    0    0    0   \n",
       "4           4  0  0  0  0  0  0  0  0  0 ...     0    0    0    0    0    0   \n",
       "\n",
       "   781  782  783  784  \n",
       "0    0    0    0    5  \n",
       "1    0    0    0    0  \n",
       "2    0    0    0    4  \n",
       "3    0    0    0    1  \n",
       "4    0    0    0    9  \n",
       "\n",
       "[5 rows x 786 columns]"
      ]
     },
     "execution_count": 7,
     "metadata": {},
     "output_type": "execute_result"
    }
   ],
   "source": [
    "\"\"\"\"\"\n",
    "The head() function shows users the first few rows of their dataset\n",
    "This enables users to understand how the dataset is structured\n",
    "\"\"\"\"\"\n",
    "\n",
    "data.head()"
   ]
  },
  {
   "cell_type": "markdown",
   "metadata": {},
   "source": [
    "Note that:\n",
    "1. We have 60000 images\n",
    "2. Images are 28*28\n",
    "3. We have a column with the labels: 0,1,2,3,...,9"
   ]
  },
  {
   "cell_type": "code",
   "execution_count": 6,
   "metadata": {},
   "outputs": [],
   "source": [
    "\"\"\"\"\"\n",
    "Instead of having an additional index column, we replace it using the first column of our dataset\n",
    "Note that in Python, it uses 0 indexing format, meaning it counts from 0 instead of 1.\n",
    "Hence here, data.columns[0] denotes the first column of our dataset\n",
    "\"\"\"\"\"\n",
    "data = data.set_index(data.columns[0])"
   ]
  },
  {
   "cell_type": "code",
   "execution_count": 7,
   "metadata": {},
   "outputs": [
    {
     "data": {
      "text/plain": [
       "(60000, 785)"
      ]
     },
     "execution_count": 7,
     "metadata": {},
     "output_type": "execute_result"
    }
   ],
   "source": [
    "\"\"\"\"\"\n",
    "As expected, once we replace the index with one column, the number of columns reduces from 786 to 785\n",
    "\"\"\"\"\"\n",
    "data.shape"
   ]
  },
  {
   "cell_type": "code",
   "execution_count": 8,
   "metadata": {},
   "outputs": [],
   "source": [
    "# we will only use 5000 rows of the data\n",
    "sample = data.sample(frac=0.10)"
   ]
  },
  {
   "cell_type": "code",
   "execution_count": 9,
   "metadata": {},
   "outputs": [],
   "source": [
    "\"\"\"\"\"\n",
    "The iloc[] command enables us to extract a subset within our dataset\n",
    "sample.iloc[:,:-1] means we extract all rows and all columns (except for the last one!) of the dataset\n",
    "sample.iloc[:,-1] ? Well you can easily guess it. This means we extract all rows and only the last column\n",
    "For econometricians / statisticians, you can think about the last column as \"y\" and all other columns being the feature\n",
    "set \"X\"\n",
    "\"\"\"\"\"\n",
    "# separate images and labels\n",
    "images = sample.iloc[:,:-1]\n",
    "labels = sample.iloc[:,-1]"
   ]
  },
  {
   "cell_type": "code",
   "execution_count": 10,
   "metadata": {},
   "outputs": [
    {
     "data": {
      "text/html": [
       "<div>\n",
       "<style scoped>\n",
       "    .dataframe tbody tr th:only-of-type {\n",
       "        vertical-align: middle;\n",
       "    }\n",
       "\n",
       "    .dataframe tbody tr th {\n",
       "        vertical-align: top;\n",
       "    }\n",
       "\n",
       "    .dataframe thead th {\n",
       "        text-align: right;\n",
       "    }\n",
       "</style>\n",
       "<table border=\"1\" class=\"dataframe\">\n",
       "  <thead>\n",
       "    <tr style=\"text-align: right;\">\n",
       "      <th></th>\n",
       "      <th>0</th>\n",
       "      <th>1</th>\n",
       "      <th>2</th>\n",
       "      <th>3</th>\n",
       "      <th>4</th>\n",
       "      <th>5</th>\n",
       "      <th>6</th>\n",
       "      <th>7</th>\n",
       "      <th>8</th>\n",
       "      <th>9</th>\n",
       "      <th>...</th>\n",
       "      <th>774</th>\n",
       "      <th>775</th>\n",
       "      <th>776</th>\n",
       "      <th>777</th>\n",
       "      <th>778</th>\n",
       "      <th>779</th>\n",
       "      <th>780</th>\n",
       "      <th>781</th>\n",
       "      <th>782</th>\n",
       "      <th>783</th>\n",
       "    </tr>\n",
       "    <tr>\n",
       "      <th>Unnamed: 0</th>\n",
       "      <th></th>\n",
       "      <th></th>\n",
       "      <th></th>\n",
       "      <th></th>\n",
       "      <th></th>\n",
       "      <th></th>\n",
       "      <th></th>\n",
       "      <th></th>\n",
       "      <th></th>\n",
       "      <th></th>\n",
       "      <th></th>\n",
       "      <th></th>\n",
       "      <th></th>\n",
       "      <th></th>\n",
       "      <th></th>\n",
       "      <th></th>\n",
       "      <th></th>\n",
       "      <th></th>\n",
       "      <th></th>\n",
       "      <th></th>\n",
       "      <th></th>\n",
       "    </tr>\n",
       "  </thead>\n",
       "  <tbody>\n",
       "    <tr>\n",
       "      <th>6007</th>\n",
       "      <td>0</td>\n",
       "      <td>0</td>\n",
       "      <td>0</td>\n",
       "      <td>0</td>\n",
       "      <td>0</td>\n",
       "      <td>0</td>\n",
       "      <td>0</td>\n",
       "      <td>0</td>\n",
       "      <td>0</td>\n",
       "      <td>0</td>\n",
       "      <td>...</td>\n",
       "      <td>0</td>\n",
       "      <td>0</td>\n",
       "      <td>0</td>\n",
       "      <td>0</td>\n",
       "      <td>0</td>\n",
       "      <td>0</td>\n",
       "      <td>0</td>\n",
       "      <td>0</td>\n",
       "      <td>0</td>\n",
       "      <td>0</td>\n",
       "    </tr>\n",
       "    <tr>\n",
       "      <th>59049</th>\n",
       "      <td>0</td>\n",
       "      <td>0</td>\n",
       "      <td>0</td>\n",
       "      <td>0</td>\n",
       "      <td>0</td>\n",
       "      <td>0</td>\n",
       "      <td>0</td>\n",
       "      <td>0</td>\n",
       "      <td>0</td>\n",
       "      <td>0</td>\n",
       "      <td>...</td>\n",
       "      <td>0</td>\n",
       "      <td>0</td>\n",
       "      <td>0</td>\n",
       "      <td>0</td>\n",
       "      <td>0</td>\n",
       "      <td>0</td>\n",
       "      <td>0</td>\n",
       "      <td>0</td>\n",
       "      <td>0</td>\n",
       "      <td>0</td>\n",
       "    </tr>\n",
       "    <tr>\n",
       "      <th>45392</th>\n",
       "      <td>0</td>\n",
       "      <td>0</td>\n",
       "      <td>0</td>\n",
       "      <td>0</td>\n",
       "      <td>0</td>\n",
       "      <td>0</td>\n",
       "      <td>0</td>\n",
       "      <td>0</td>\n",
       "      <td>0</td>\n",
       "      <td>0</td>\n",
       "      <td>...</td>\n",
       "      <td>0</td>\n",
       "      <td>0</td>\n",
       "      <td>0</td>\n",
       "      <td>0</td>\n",
       "      <td>0</td>\n",
       "      <td>0</td>\n",
       "      <td>0</td>\n",
       "      <td>0</td>\n",
       "      <td>0</td>\n",
       "      <td>0</td>\n",
       "    </tr>\n",
       "    <tr>\n",
       "      <th>39287</th>\n",
       "      <td>0</td>\n",
       "      <td>0</td>\n",
       "      <td>0</td>\n",
       "      <td>0</td>\n",
       "      <td>0</td>\n",
       "      <td>0</td>\n",
       "      <td>0</td>\n",
       "      <td>0</td>\n",
       "      <td>0</td>\n",
       "      <td>0</td>\n",
       "      <td>...</td>\n",
       "      <td>0</td>\n",
       "      <td>0</td>\n",
       "      <td>0</td>\n",
       "      <td>0</td>\n",
       "      <td>0</td>\n",
       "      <td>0</td>\n",
       "      <td>0</td>\n",
       "      <td>0</td>\n",
       "      <td>0</td>\n",
       "      <td>0</td>\n",
       "    </tr>\n",
       "    <tr>\n",
       "      <th>46683</th>\n",
       "      <td>0</td>\n",
       "      <td>0</td>\n",
       "      <td>0</td>\n",
       "      <td>0</td>\n",
       "      <td>0</td>\n",
       "      <td>0</td>\n",
       "      <td>0</td>\n",
       "      <td>0</td>\n",
       "      <td>0</td>\n",
       "      <td>0</td>\n",
       "      <td>...</td>\n",
       "      <td>0</td>\n",
       "      <td>0</td>\n",
       "      <td>0</td>\n",
       "      <td>0</td>\n",
       "      <td>0</td>\n",
       "      <td>0</td>\n",
       "      <td>0</td>\n",
       "      <td>0</td>\n",
       "      <td>0</td>\n",
       "      <td>0</td>\n",
       "    </tr>\n",
       "  </tbody>\n",
       "</table>\n",
       "<p>5 rows × 784 columns</p>\n",
       "</div>"
      ],
      "text/plain": [
       "            0  1  2  3  4  5  6  7  8  9 ...   774  775  776  777  778  779  \\\n",
       "Unnamed: 0                               ...                                  \n",
       "6007        0  0  0  0  0  0  0  0  0  0 ...     0    0    0    0    0    0   \n",
       "59049       0  0  0  0  0  0  0  0  0  0 ...     0    0    0    0    0    0   \n",
       "45392       0  0  0  0  0  0  0  0  0  0 ...     0    0    0    0    0    0   \n",
       "39287       0  0  0  0  0  0  0  0  0  0 ...     0    0    0    0    0    0   \n",
       "46683       0  0  0  0  0  0  0  0  0  0 ...     0    0    0    0    0    0   \n",
       "\n",
       "            780  781  782  783  \n",
       "Unnamed: 0                      \n",
       "6007          0    0    0    0  \n",
       "59049         0    0    0    0  \n",
       "45392         0    0    0    0  \n",
       "39287         0    0    0    0  \n",
       "46683         0    0    0    0  \n",
       "\n",
       "[5 rows x 784 columns]"
      ]
     },
     "execution_count": 10,
     "metadata": {},
     "output_type": "execute_result"
    }
   ],
   "source": [
    "\"\"\"\"\"\n",
    "Again, the head function allows you to glimpse through your dataset\n",
    "\"\"\"\"\"\n",
    "images.head()"
   ]
  },
  {
   "cell_type": "code",
   "execution_count": 11,
   "metadata": {},
   "outputs": [],
   "source": [
    "\"\"\"\"\"\n",
    "def f(): is the basic format of defining our own function in Python. I will not go through the function here\n",
    "as it as not particularly relevant to ML. This function simply allows you to visualize your data\n",
    "\"\"\"\"\"\n",
    "def show_digit(image):\n",
    "    \"\"\"Image: (784,1) np array\n",
    "    \"\"\"\n",
    "    \n",
    "    digit = image.reshape(28,28)\n",
    "    plt.imshow(digit, cmap='gray')\n",
    "    plt.show()"
   ]
  },
  {
   "cell_type": "code",
   "execution_count": 13,
   "metadata": {},
   "outputs": [
    {
     "data": {
      "image/png": "[encoded data removed]",
      "text/plain": [
       "<Figure size 432x288 with 1 Axes>"
      ]
     },
     "metadata": {},
     "output_type": "display_data"
    },
    {
     "name": "stdout",
     "output_type": "stream",
     "text": [
      "Label: 6\n"
     ]
    }
   ],
   "source": [
    "# look up digit\n",
    "num = 12\n",
    "show_digit(images.values[num,:])\n",
    "print('Label: ' + str(labels.values[num]))"
   ]
  },
  {
   "cell_type": "markdown",
   "metadata": {},
   "source": [
    "## Preparing the Data for Training\n",
    "\n",
    "SVMs are a linear programming model so we need to:\n",
    "\n",
    "1. Have the training data in Matrix Format\n",
    "2. Separate the training set into validation and training"
   ]
  },
  {
   "cell_type": "code",
   "execution_count": 14,
   "metadata": {},
   "outputs": [],
   "source": [
    "\"\"\"\"\"\n",
    "Now we define our X (feature set) and y (outcome)\n",
    "We use images.values instead of images to drop the index\n",
    "\"\"\"\"\"\n",
    "X = images.values\n",
    "y = labels.values"
   ]
  },
  {
   "cell_type": "code",
   "execution_count": 15,
   "metadata": {},
   "outputs": [
    {
     "data": {
      "text/plain": [
       "((6000, 784), (6000,))"
      ]
     },
     "execution_count": 15,
     "metadata": {},
     "output_type": "execute_result"
    }
   ],
   "source": [
    "\"\"\"\"\"\n",
    "Again, we review the shape of our matrix. Unsurprisingly, X has 784 columns (x1,x2...,x784) \n",
    "and y has only one column (a vector)\n",
    "\"\"\"\"\"\n",
    "X.shape, y.shape "
   ]
  },
  {
   "cell_type": "code",
   "execution_count": 16,
   "metadata": {},
   "outputs": [],
   "source": [
    "\"\"\"\"\"\n",
    "In the very beginning of this script, we imported the function \"train_test_split()\" from sklearn.model_selection\n",
    "As we emphasized during the bootcamp, these packages have built in functions that could facilitate our analysis\n",
    "and we don't necessarily have to define our own function tediously\n",
    "\n",
    "To reiterate, in Machine Learning, we are concerned about Out-of-Sample predictions. Hence, we partition our dataset\n",
    "into train data and test data. (I tend to think of this as \"pretending\" that the test data is unseen data)\n",
    "\"\"\"\"\"\n",
    "X_train, X_val, y_train, y_val = train_test_split(X, y, test_size=0.2)"
   ]
  },
  {
   "cell_type": "code",
   "execution_count": 17,
   "metadata": {},
   "outputs": [
    {
     "data": {
      "text/plain": [
       "((4800, 784), (1200, 784), (4800,), (1200,))"
      ]
     },
     "execution_count": 17,
     "metadata": {},
     "output_type": "execute_result"
    }
   ],
   "source": [
    "\"\"\"\"\"\n",
    "You should know by now what the shape function does\n",
    "\"\"\"\"\"\n",
    "X_train.shape, X_val.shape, y_train.shape, y_val.shape"
   ]
  },
  {
   "cell_type": "markdown",
   "metadata": {},
   "source": [
    "Idea:\n",
    "\n",
    "1. Train the model on the training set\n",
    "2. Hypertune the SVM parameters on the validation set"
   ]
  },
  {
   "cell_type": "markdown",
   "metadata": {},
   "source": [
    "## Model: SVM"
   ]
  },
  {
   "cell_type": "code",
   "execution_count": 18,
   "metadata": {},
   "outputs": [],
   "source": [
    "\"\"\"\"\"\n",
    "Here we select our model as SVC. There are many other models other than the support vector classifier within sklearn\n",
    "such as RandomForestClassifier()/ linear_model.lasso etc. Who knows, maybe you can learn about these alternative models\n",
    "in our second bootcamp ;)\n",
    "\n",
    "We also need to choose the kernel (Think of this as the shape of the decision boundary). Other kernels we discussed \n",
    "during the bootcamp includes Gaussian(RBF), polynomial boundaries etc. Feel free to try them out yourself by inputting\n",
    "model = SVC(kernel = 'poly',degree=2) or model = SVC()    --> The default kernel is the Gaussian kernel\n",
    "\n",
    "\"\"\"\"\"\n",
    "model = SVC(kernel='linear')"
   ]
  },
  {
   "cell_type": "code",
   "execution_count": 19,
   "metadata": {},
   "outputs": [
    {
     "data": {
      "text/plain": [
       "SVC(C=1.0, cache_size=200, class_weight=None, coef0=0.0,\n",
       "  decision_function_shape='ovr', degree=3, gamma='auto', kernel='linear',\n",
       "  max_iter=-1, probability=False, random_state=None, shrinking=True,\n",
       "  tol=0.001, verbose=False)"
      ]
     },
     "execution_count": 19,
     "metadata": {},
     "output_type": "execute_result"
    }
   ],
   "source": [
    "\"\"\"\"\"\n",
    "The fit function simply fits your model with your data. Again, we only fit our training data as we pretend that \n",
    "it is the only available dataset. We will later on apply this model to our test data to compute the model's accuracy\n",
    "\"\"\"\"\"\n",
    "model.fit(X_train, y_train)"
   ]
  },
  {
   "cell_type": "code",
   "execution_count": 20,
   "metadata": {},
   "outputs": [],
   "source": [
    "\"\"\"\"\"\n",
    "This helps you find the coefficients of the model and the support vectors of the SVC\n",
    "\"\"\"\"\"\n",
    "\n",
    "coefs = model.dual_coef_\n",
    "supports = model.support_vectors_"
   ]
  },
  {
   "cell_type": "code",
   "execution_count": 21,
   "metadata": {},
   "outputs": [
    {
     "data": {
      "text/plain": [
       "((9, 1683), (1683, 784))"
      ]
     },
     "execution_count": 21,
     "metadata": {},
     "output_type": "execute_result"
    }
   ],
   "source": [
    "coefs.shape, supports.shape"
   ]
  },
  {
   "cell_type": "markdown",
   "metadata": {},
   "source": [
    "In the 784 dimensional space, the support vectors are the data points that generate a 1 vs 1 hyperplane to separate a ovservations of 2 classes"
   ]
  },
  {
   "cell_type": "code",
   "execution_count": 22,
   "metadata": {},
   "outputs": [],
   "source": [
    "\"\"\"\"\"\n",
    "This function shows you the prediction output (yval_predicted) corresponding to your testing Xval\n",
    "\"\"\"\"\"\n",
    "def train(m, Xtrain, ytrain, Xval):\n",
    "    \"\"\" model: sklearn model\n",
    "    \"\"\"\n",
    "    m.fit(Xtrain, ytrain)\n",
    "    predictions = m.predict(Xval)\n",
    "    return predictions"
   ]
  },
  {
   "cell_type": "code",
   "execution_count": 23,
   "metadata": {},
   "outputs": [],
   "source": [
    "pred = train(SVC(kernel='linear'), X_train, y_train, X_val)"
   ]
  },
  {
   "cell_type": "code",
   "execution_count": 24,
   "metadata": {},
   "outputs": [
    {
     "data": {
      "text/plain": [
       "array([6, 7, 3, ..., 7, 4, 7])"
      ]
     },
     "execution_count": 24,
     "metadata": {},
     "output_type": "execute_result"
    }
   ],
   "source": [
    "\"\"\"\"\"\n",
    "Show the prediction results\n",
    "\"\"\"\"\"\n",
    "pred"
   ]
  },
  {
   "cell_type": "code",
   "execution_count": 25,
   "metadata": {},
   "outputs": [
    {
     "data": {
      "text/plain": [
       "0.91583333333333339"
      ]
     },
     "execution_count": 25,
     "metadata": {},
     "output_type": "execute_result"
    }
   ],
   "source": [
    "\"\"\"\"\"\n",
    "In sklearn.metrics, there exists a built in function that compares your predicted results with true results\n",
    "It will display the % of correct predictions\n",
    "\"\"\"\"\"\n",
    "accuracy_score(pred, y_val)"
   ]
  },
  {
   "cell_type": "code",
   "execution_count": 26,
   "metadata": {},
   "outputs": [
    {
     "name": "stdout",
     "output_type": "stream",
     "text": [
      "[[107   0   1   0   1   0   0   0   0   1]\n",
      " [  0 150   0   1   1   1   0   1   4   1]\n",
      " [  1   1  92   3   1   3   2   2   4   0]\n",
      " [  1   0   2 113   0   3   0   0   7   3]\n",
      " [  0   0   2   0 126   1   1   1   0   6]\n",
      " [  0   0   1   4   0  81   2   0   4   0]\n",
      " [  0   0   1   0   0   3 106   0   0   0]\n",
      " [  0   0   1   0   0   0   0 122   0   5]\n",
      " [  2   0   3   3   0   1   1   0 102   1]\n",
      " [  0   0   0   2   6   0   0   5   0 100]]\n"
     ]
    },
    {
     "data": {
      "image/png": "[encoded data removed]",
      "text/plain": [
       "<Figure size 432x288 with 1 Axes>"
      ]
     },
     "metadata": {},
     "output_type": "display_data"
    }
   ],
   "source": [
    "\"\"\"\"\"\n",
    "confusion_matrix is also a built in function within sklearn\n",
    "The diagonal of the matrix shows the number of observations predicted correctly within a particular class (digits)\n",
    "\n",
    "\"\"\"\"\"\n",
    "cm = confusion_matrix(pred, y_val)\n",
    "print(cm)\n",
    "\n",
    "\"\"\"\"\"\n",
    "The following is simply a fancier way present the confusion matrix\n",
    "it may make things slightly more confusing (Pun intended) so I will not go through the steps\n",
    "\"\"\"\"\"\n",
    "plt.imshow(cm, interpolation='nearest', cmap=plt.cm.Blues)\n",
    "plt.xlabel('Predicted')\n",
    "plt.ylabel('True')\n",
    "ticks = np.arange(10)\n",
    "plt.xticks(ticks)\n",
    "plt.yticks(ticks)\n",
    "plt.show()"
   ]
  },
  {
   "cell_type": "markdown",
   "metadata": {},
   "source": [
    "### Hypertuning and CV\n",
    "Improve the accuracy of our model without overfitting. We can do 2 things:\n",
    "\n",
    "1. Choose what type of regularization to use\n",
    "2. Hypertune model complexity"
   ]
  },
  {
   "cell_type": "code",
   "execution_count": 27,
   "metadata": {},
   "outputs": [],
   "source": [
    "\"\"\"\"\"\n",
    "As mentioned during the bootcamp. Most pannel data is not linearly separable and even if they are, fitting a \n",
    "hard margin may not necessarily yield the best results (Remember Bias Variance Trade-off!)\n",
    "\n",
    "Intuition: The hard margin hyperplane could change dramatically if you select a different sample from the same \n",
    "population. This means your model will have an extremely high variance!\n",
    "\n",
    "To reconcile this, we allow for some slacks in our classification, meaning some data points will be misclassified\n",
    "but this could reduce our model's variance dramatically\n",
    "\n",
    "In our SVC function, C denotes the amount of \"slack\" you allow for. The higher the value of C, the more lineant \n",
    "your model is\n",
    "\n",
    "Notice previously, we simply typed in SVC(kernel='linear') without actually keying in C. Sklearn defaults\n",
    "C as 1 if you do not manually type in C.\n",
    "\"\"\"\"\"\n",
    "pred = train(SVC(kernel='linear', C=0.000000001), X_train, y_train, X_val)"
   ]
  },
  {
   "cell_type": "code",
   "execution_count": 28,
   "metadata": {},
   "outputs": [
    {
     "data": {
      "text/plain": [
       "0.33833333333333332"
      ]
     },
     "execution_count": 28,
     "metadata": {},
     "output_type": "execute_result"
    }
   ],
   "source": [
    "\"\"\"\"\"\n",
    "As you can expect, if you set C = 0.00000001 (meaning you're a jackass who doesn't allow for much error), the\n",
    "prediction result would be significant lower due to the model's high variance\n",
    "\"\"\"\"\"\n",
    "accuracy_score(pred, y_val)"
   ]
  },
  {
   "cell_type": "code",
   "execution_count": 29,
   "metadata": {},
   "outputs": [
    {
     "name": "stdout",
     "output_type": "stream",
     "text": [
      "[  1.00000000e-10   5.45559478e-10   2.97635144e-09   1.62377674e-08\n",
      "   8.85866790e-08   4.83293024e-07   2.63665090e-06   1.43844989e-05\n",
      "   7.84759970e-05   4.28133240e-04   2.33572147e-03   1.27427499e-02\n",
      "   6.95192796e-02   3.79269019e-01   2.06913808e+00   1.12883789e+01\n",
      "   6.15848211e+01   3.35981829e+02   1.83298071e+03   1.00000000e+04]\n"
     ]
    }
   ],
   "source": [
    "\"\"\"\"\"\n",
    "Here, we call out the logspace function from our numpy library\n",
    "There are 3 key arguments in this function. \n",
    "The 1st is your starting value of the sequence, 2nd is the final value of the sequence, and 3rd is the number\n",
    "of samples to generate\n",
    "\n",
    "So we generate an array containing 20 numbers ranging from 10^-10 to 10^4 spaced evenly\n",
    "\"\"\"\"\"\n",
    "log_C = np.logspace(-10,4, 20)\n",
    "print(log_C)"
   ]
  },
  {
   "cell_type": "code",
   "execution_count": 30,
   "metadata": {},
   "outputs": [],
   "source": [
    "\"\"\"\"\"\n",
    "Here, we introduce the for loop\n",
    "The for loop is an essential tool in Python that enables you to iterate the same process on different objects\n",
    "continuously\n",
    "\n",
    "In this loop, we show our accuracy score corresponding to different values of C we generated previously using the \n",
    "logspace() function\n",
    "\n",
    "\"\"\"\"\"\n",
    "\n",
    "accs = []\n",
    "for c in log_C:\n",
    "    prd = train(LinearSVC(C=c), X_train, y_train, X_val)\n",
    "    acc = accuracy_score(prd, y_val)\n",
    "    accs.append(acc)"
   ]
  },
  {
   "cell_type": "code",
   "execution_count": 31,
   "metadata": {},
   "outputs": [
    {
     "name": "stdout",
     "output_type": "stream",
     "text": [
      "[0.74916666666666665, 0.79333333333333333, 0.84999999999999998, 0.8783333333333333, 0.89500000000000002, 0.90000000000000002, 0.88500000000000001, 0.87666666666666671, 0.8666666666666667, 0.85166666666666668, 0.84583333333333333, 0.84999999999999998, 0.84750000000000003, 0.84666666666666668, 0.84916666666666663, 0.85333333333333339, 0.84999999999999998, 0.85250000000000004, 0.84416666666666662, 0.84583333333333333]\n"
     ]
    }
   ],
   "source": [
    "print(accs)"
   ]
  },
  {
   "cell_type": "code",
   "execution_count": 32,
   "metadata": {},
   "outputs": [],
   "source": [
    "\"\"\"\"\"\n",
    "Among the accs list, we choose the c that yields the highest accuracy score and define it as best_C\n",
    "\"\"\"\"\"\n",
    "best_C = log_C[np.argmax(accs)]"
   ]
  },
  {
   "cell_type": "code",
   "execution_count": 33,
   "metadata": {},
   "outputs": [
    {
     "data": {
      "text/plain": [
       "4.832930238571752e-07"
      ]
     },
     "execution_count": 33,
     "metadata": {},
     "output_type": "execute_result"
    }
   ],
   "source": [
    "best_C "
   ]
  },
  {
   "cell_type": "code",
   "execution_count": 34,
   "metadata": {},
   "outputs": [],
   "source": [
    "\"\"\"\"\"\n",
    "Knowing our optimal C, we can train our SVC model again using C = best_C\n",
    "\"\"\"\"\"\n",
    "\n",
    "prd = train(SVC(kernel='linear', C=best_C), X_train, y_train, X_val)"
   ]
  },
  {
   "cell_type": "code",
   "execution_count": 35,
   "metadata": {},
   "outputs": [
    {
     "data": {
      "text/plain": [
       "0.9291666666666667"
      ]
     },
     "execution_count": 35,
     "metadata": {},
     "output_type": "execute_result"
    }
   ],
   "source": [
    "\"\"\"\"\"\n",
    "Comparing the results here, you should (hopefully) get a higher accuracy score!\n",
    "\"\"\"\"\"\n",
    "accuracy_score(prd, y_val)"
   ]
  },
  {
   "cell_type": "code",
   "execution_count": 36,
   "metadata": {},
   "outputs": [],
   "source": [
    "\"\"\"\"\"\n",
    "We use the cross-validation score to evaluate whether this is the best model\n",
    "np.concatenate() simply concatenates your X_train and X_val datasets\n",
    "\"\"\"\"\"\n",
    "scores = cross_val_score(SVC(kernel='linear', C=best_C), np.concatenate([X_train, \n",
    "    X_val]), np.concatenate([y_train, y_val]), cv=5)"
   ]
  },
  {
   "cell_type": "code",
   "execution_count": 37,
   "metadata": {},
   "outputs": [
    {
     "data": {
      "text/plain": [
       "(array([ 0.91347754,  0.91347754,  0.91666667,  0.91916667,  0.92558528]),\n",
       " 0.9176747384978956)"
      ]
     },
     "execution_count": 37,
     "metadata": {},
     "output_type": "execute_result"
    }
   ],
   "source": [
    "scores, scores.mean()"
   ]
  },
  {
   "cell_type": "markdown",
   "metadata": {},
   "source": [
    "### Visualizing the Complexity tradeoff"
   ]
  },
  {
   "cell_type": "code",
   "execution_count": 38,
   "metadata": {},
   "outputs": [
    {
     "data": {
      "image/png": "[encoded data removed]",
      "text/plain": [
       "<Figure size 432x288 with 1 Axes>"
      ]
     },
     "metadata": {},
     "output_type": "display_data"
    }
   ],
   "source": [
    "\"\"\"\"\"\n",
    "Visualizing the complexity tradeoff\n",
    "Here we define errors as 1 - x for x in accs (the list containing accuracy score corresponsing to different Cs)\n",
    "because error = 1 - accuracy\n",
    "We use the \"C\" which yields the lowest Mean-Squared-Error (global minima of this graph)\n",
    "\"\"\"\"\"\n",
    "\n",
    "errors = [1.0 - x for x in accs]\n",
    "plt.plot(log_C, errors)\n",
    "plt.xscale('log')\n",
    "plt.show()"
   ]
  },
  {
   "cell_type": "markdown",
   "metadata": {},
   "source": [
    "### Using GridSearch Cross Validation"
   ]
  },
  {
   "cell_type": "code",
   "execution_count": 39,
   "metadata": {},
   "outputs": [
    {
     "data": {
      "text/plain": [
       "GridSearchCV(cv=None, error_score='raise',\n",
       "       estimator=SVC(C=1.0, cache_size=200, class_weight=None, coef0=0.0,\n",
       "  decision_function_shape='ovr', degree=3, gamma='auto', kernel='linear',\n",
       "  max_iter=-1, probability=False, random_state=None, shrinking=True,\n",
       "  tol=0.001, verbose=False),\n",
       "       fit_params={}, iid=True, n_jobs=1,\n",
       "       param_grid={'C': array([  1.00000e-10,   5.45559e-10,   2.97635e-09,   1.62378e-08,\n",
       "         8.85867e-08,   4.83293e-07,   2.63665e-06,   1.43845e-05,\n",
       "         7.84760e-05,   4.28133e-04,   2.33572e-03,   1.27427e-02,\n",
       "         6.95193e-02,   3.79269e-01,   2.06914e+00,   1.12884e+01,\n",
       "         6.15848e+01,   3.35982e+02,   1.83298e+03,   1.00000e+04])},\n",
       "       pre_dispatch='2*n_jobs', refit=True, scoring=None, verbose=0)"
      ]
     },
     "execution_count": 39,
     "metadata": {},
     "output_type": "execute_result"
    }
   ],
   "source": [
    "parameters = {'C':log_C}\n",
    "model = grid_search.GridSearchCV(SVC(kernel='linear'), parameters)\n",
    "model.fit(X_train, y_train)"
   ]
  },
  {
   "cell_type": "code",
   "execution_count": 40,
   "metadata": {},
   "outputs": [
    {
     "name": "stdout",
     "output_type": "stream",
     "text": [
      "SVC(C=4.832930238571752e-07, cache_size=200, class_weight=None, coef0=0.0,\n",
      "  decision_function_shape='ovr', degree=3, gamma='auto', kernel='linear',\n",
      "  max_iter=-1, probability=False, random_state=None, shrinking=True,\n",
      "  tol=0.001, verbose=False)\n"
     ]
    }
   ],
   "source": [
    "# what is the best model?\n",
    "print(model.best_estimator_)"
   ]
  },
  {
   "cell_type": "code",
   "execution_count": null,
   "metadata": {},
   "outputs": [],
   "source": []
  }
 ],
 "metadata": {
  "kernelspec": {
   "display_name": "Python 3",
   "language": "python",
   "name": "python3"
  },
  "language_info": {
   "codemirror_mode": {
    "name": "ipython",
    "version": 3
   },
   "file_extension": ".py",
   "mimetype": "text/x-python",
   "name": "python",
   "nbconvert_exporter": "python",
   "pygments_lexer": "ipython3",
   "version": "3.6.5"
  }
 },
 "nbformat": 4,
 "nbformat_minor": 2
}
